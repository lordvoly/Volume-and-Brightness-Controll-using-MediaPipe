{
 "cells": [
  {
   "cell_type": "code",
   "execution_count": 1,
   "id": "2eb1a11d-db08-453d-bb74-81391eb5d3d2",
   "metadata": {},
   "outputs": [
    {
     "name": "stdout",
     "output_type": "stream",
     "text": [
      "Requirement already satisfied: opencv-python in c:\\users\\aryan\\mediapipe_env\\lib\\site-packages (4.11.0.86)\n",
      "Requirement already satisfied: numpy>=1.19.3 in c:\\users\\aryan\\mediapipe_env\\lib\\site-packages (from opencv-python) (1.26.4)\n",
      "Note: you may need to restart the kernel to use updated packages.\n"
     ]
    },
    {
     "name": "stderr",
     "output_type": "stream",
     "text": [
      "WARNING: You are using pip version 22.0.4; however, version 25.0.1 is available.\n",
      "You should consider upgrading via the 'C:\\Users\\aryan\\mediapipe_env\\Scripts\\python.exe -m pip install --upgrade pip' command.\n"
     ]
    }
   ],
   "source": [
    "pip install opencv-python"
   ]
  },
  {
   "cell_type": "code",
   "execution_count": null,
   "id": "da4a37d5-18bd-4713-9bf2-24b4a828ec6d",
   "metadata": {},
   "outputs": [],
   "source": []
  },
  {
   "cell_type": "code",
   "execution_count": 2,
   "id": "8e7108a0-f068-4a04-9a20-acfb22cd2db7",
   "metadata": {},
   "outputs": [
    {
     "name": "stdout",
     "output_type": "stream",
     "text": [
      "Requirement already satisfied: mediapipe in c:\\users\\aryan\\mediapipe_env\\lib\\site-packages (0.10.21)\n",
      "Requirement already satisfied: matplotlib in c:\\users\\aryan\\mediapipe_env\\lib\\site-packages (from mediapipe) (3.9.4)\n",
      "Requirement already satisfied: protobuf<5,>=4.25.3 in c:\\users\\aryan\\mediapipe_env\\lib\\site-packages (from mediapipe) (4.25.6)\n",
      "Requirement already satisfied: flatbuffers>=2.0 in c:\\users\\aryan\\mediapipe_env\\lib\\site-packages (from mediapipe) (25.2.10)\n",
      "Requirement already satisfied: opencv-contrib-python in c:\\users\\aryan\\mediapipe_env\\lib\\site-packages (from mediapipe) (4.11.0.86)\n",
      "Requirement already satisfied: jax in c:\\users\\aryan\\mediapipe_env\\lib\\site-packages (from mediapipe) (0.4.30)\n",
      "Requirement already satisfied: sentencepiece in c:\\users\\aryan\\mediapipe_env\\lib\\site-packages (from mediapipe) (0.2.0)\n",
      "Requirement already satisfied: numpy<2 in c:\\users\\aryan\\mediapipe_env\\lib\\site-packages (from mediapipe) (1.26.4)\n",
      "Requirement already satisfied: absl-py in c:\\users\\aryan\\mediapipe_env\\lib\\site-packages (from mediapipe) (2.1.0)\n",
      "Requirement already satisfied: attrs>=19.1.0 in c:\\users\\aryan\\mediapipe_env\\lib\\site-packages (from mediapipe) (25.3.0)\n",
      "Requirement already satisfied: sounddevice>=0.4.4 in c:\\users\\aryan\\mediapipe_env\\lib\\site-packages (from mediapipe) (0.5.1)\n",
      "Requirement already satisfied: jaxlib in c:\\users\\aryan\\mediapipe_env\\lib\\site-packages (from mediapipe) (0.4.30)\n",
      "Requirement already satisfied: CFFI>=1.0 in c:\\users\\aryan\\mediapipe_env\\lib\\site-packages (from sounddevice>=0.4.4->mediapipe) (1.17.1)\n",
      "Requirement already satisfied: ml-dtypes>=0.2.0 in c:\\users\\aryan\\mediapipe_env\\lib\\site-packages (from jax->mediapipe) (0.5.1)\n",
      "Requirement already satisfied: opt-einsum in c:\\users\\aryan\\mediapipe_env\\lib\\site-packages (from jax->mediapipe) (3.4.0)\n",
      "Requirement already satisfied: importlib-metadata>=4.6 in c:\\users\\aryan\\mediapipe_env\\lib\\site-packages (from jax->mediapipe) (8.6.1)\n",
      "Requirement already satisfied: scipy>=1.9 in c:\\users\\aryan\\mediapipe_env\\lib\\site-packages (from jax->mediapipe) (1.13.1)\n",
      "Requirement already satisfied: pillow>=8 in c:\\users\\aryan\\mediapipe_env\\lib\\site-packages (from matplotlib->mediapipe) (11.1.0)\n",
      "Requirement already satisfied: contourpy>=1.0.1 in c:\\users\\aryan\\mediapipe_env\\lib\\site-packages (from matplotlib->mediapipe) (1.3.0)\n",
      "Requirement already satisfied: python-dateutil>=2.7 in c:\\users\\aryan\\mediapipe_env\\lib\\site-packages (from matplotlib->mediapipe) (2.9.0.post0)\n",
      "Requirement already satisfied: fonttools>=4.22.0 in c:\\users\\aryan\\mediapipe_env\\lib\\site-packages (from matplotlib->mediapipe) (4.56.0)\n",
      "Requirement already satisfied: importlib-resources>=3.2.0 in c:\\users\\aryan\\mediapipe_env\\lib\\site-packages (from matplotlib->mediapipe) (6.5.2)\n",
      "Requirement already satisfied: packaging>=20.0 in c:\\users\\aryan\\mediapipe_env\\lib\\site-packages (from matplotlib->mediapipe) (24.2)\n",
      "Requirement already satisfied: kiwisolver>=1.3.1 in c:\\users\\aryan\\mediapipe_env\\lib\\site-packages (from matplotlib->mediapipe) (1.4.7)\n",
      "Requirement already satisfied: pyparsing>=2.3.1 in c:\\users\\aryan\\mediapipe_env\\lib\\site-packages (from matplotlib->mediapipe) (3.2.1)\n",
      "Requirement already satisfied: cycler>=0.10 in c:\\users\\aryan\\mediapipe_env\\lib\\site-packages (from matplotlib->mediapipe) (0.12.1)\n",
      "Requirement already satisfied: pycparser in c:\\users\\aryan\\mediapipe_env\\lib\\site-packages (from CFFI>=1.0->sounddevice>=0.4.4->mediapipe) (2.22)\n",
      "Requirement already satisfied: zipp>=3.20 in c:\\users\\aryan\\mediapipe_env\\lib\\site-packages (from importlib-metadata>=4.6->jax->mediapipe) (3.21.0)\n",
      "Requirement already satisfied: six>=1.5 in c:\\users\\aryan\\mediapipe_env\\lib\\site-packages (from python-dateutil>=2.7->matplotlib->mediapipe) (1.17.0)\n",
      "Note: you may need to restart the kernel to use updated packages.\n"
     ]
    },
    {
     "name": "stderr",
     "output_type": "stream",
     "text": [
      "WARNING: You are using pip version 22.0.4; however, version 25.0.1 is available.\n",
      "You should consider upgrading via the 'C:\\Users\\aryan\\mediapipe_env\\Scripts\\python.exe -m pip install --upgrade pip' command.\n"
     ]
    }
   ],
   "source": [
    "pip install mediapipe"
   ]
  },
  {
   "cell_type": "code",
   "execution_count": 3,
   "id": "360eab60-936d-45f1-97ed-e96387a748ed",
   "metadata": {},
   "outputs": [
    {
     "name": "stdout",
     "output_type": "stream",
     "text": [
      "Collecting screen-brightness-control\n",
      "  Downloading screen_brightness_control-0.24.2-py3-none-any.whl (36 kB)\n",
      "Collecting pypiwin32\n",
      "  Downloading pypiwin32-223-py3-none-any.whl (1.7 kB)\n",
      "Collecting wmi\n",
      "  Downloading WMI-1.5.1-py2.py3-none-any.whl (28 kB)\n",
      "Requirement already satisfied: pywin32 in c:\\users\\aryan\\mediapipe_env\\lib\\site-packages (from screen-brightness-control) (310)\n",
      "Installing collected packages: wmi, pypiwin32, screen-brightness-control\n",
      "Successfully installed pypiwin32-223 screen-brightness-control-0.24.2 wmi-1.5.1\n",
      "Note: you may need to restart the kernel to use updated packages.\n"
     ]
    },
    {
     "name": "stderr",
     "output_type": "stream",
     "text": [
      "WARNING: You are using pip version 22.0.4; however, version 25.0.1 is available.\n",
      "You should consider upgrading via the 'C:\\Users\\aryan\\mediapipe_env\\Scripts\\python.exe -m pip install --upgrade pip' command.\n"
     ]
    }
   ],
   "source": [
    "pip install screen-brightness-control"
   ]
  },
  {
   "cell_type": "code",
   "execution_count": 8,
   "id": "94760c68-295b-4b90-9d95-0979dfa737d7",
   "metadata": {},
   "outputs": [
    {
     "name": "stdout",
     "output_type": "stream",
     "text": [
      "Requirement already satisfied: pycaw in c:\\users\\aryan\\mediapipe_env\\lib\\site-packages (20240210)\n",
      "Requirement already satisfied: psutil in c:\\users\\aryan\\mediapipe_env\\lib\\site-packages (from pycaw) (7.0.0)\n",
      "Requirement already satisfied: comtypes in c:\\users\\aryan\\mediapipe_env\\lib\\site-packages (from pycaw) (1.4.10)\n",
      "Note: you may need to restart the kernel to use updated packages.\n"
     ]
    },
    {
     "name": "stderr",
     "output_type": "stream",
     "text": [
      "WARNING: You are using pip version 22.0.4; however, version 25.0.1 is available.\n",
      "You should consider upgrading via the 'C:\\Users\\aryan\\mediapipe_env\\Scripts\\python.exe -m pip install --upgrade pip' command.\n"
     ]
    }
   ],
   "source": [
    "pip install pycaw"
   ]
  },
  {
   "cell_type": "code",
   "execution_count": 9,
   "id": "21bfb745-39d9-4986-9cd5-f64895256244",
   "metadata": {},
   "outputs": [
    {
     "name": "stdout",
     "output_type": "stream",
     "text": [
      "Requirement already satisfied: comtypes in c:\\users\\aryan\\mediapipe_env\\lib\\site-packages (1.4.10)\n",
      "Note: you may need to restart the kernel to use updated packages.\n"
     ]
    },
    {
     "name": "stderr",
     "output_type": "stream",
     "text": [
      "WARNING: You are using pip version 22.0.4; however, version 25.0.1 is available.\n",
      "You should consider upgrading via the 'C:\\Users\\aryan\\mediapipe_env\\Scripts\\python.exe -m pip install --upgrade pip' command.\n"
     ]
    }
   ],
   "source": [
    "pip install comtypes"
   ]
  },
  {
   "cell_type": "code",
   "execution_count": 10,
   "id": "e9889bc9-ccff-4ddb-9b54-c6ef4dbbf775",
   "metadata": {},
   "outputs": [],
   "source": [
    "import sys"
   ]
  },
  {
   "cell_type": "code",
   "execution_count": 11,
   "id": "126f8538-5f92-41aa-8814-643dba4824e5",
   "metadata": {},
   "outputs": [
    {
     "name": "stdout",
     "output_type": "stream",
     "text": [
      "sys.version\n"
     ]
    }
   ],
   "source": [
    "print('sys.version')"
   ]
  },
  {
   "cell_type": "code",
   "execution_count": 12,
   "id": "a0fb2994-bf7d-43d9-9567-a24e74daa6ef",
   "metadata": {},
   "outputs": [
    {
     "name": "stdout",
     "output_type": "stream",
     "text": [
      "3.9.13 (tags/v3.9.13:6de2ca5, May 17 2022, 16:36:42) [MSC v.1929 64 bit (AMD64)]\n"
     ]
    }
   ],
   "source": [
    "print(sys.version)"
   ]
  },
  {
   "cell_type": "code",
   "execution_count": 13,
   "id": "a2a3100e-2564-4778-83d8-15e3dbd21972",
   "metadata": {},
   "outputs": [],
   "source": [
    "import cv2\n",
    "import mediapipe as mp\n",
    "from math import hypot\n",
    "import screen_brightness_control as sbc\n",
    "import numpy as np\n",
    "from ctypes import cast, POINTER\n",
    "from comtypes import CLSCTX_ALL\n",
    "from pycaw.pycaw import AudioUtilities, IAudioEndpointVolume\n",
    "from google.protobuf.json_format import MessageToDict"
   ]
  },
  {
   "cell_type": "code",
   "execution_count": 16,
   "id": "f071c3e6-dc12-4e79-9252-e47aa63ad926",
   "metadata": {},
   "outputs": [],
   "source": [
    "\n",
    "# Initialize MediaPipe Hand module\n",
    "mpHands = mp.solutions.hands\n",
    "hands = mpHands.Hands(\n",
    "    static_image_mode=False,\n",
    "    model_complexity=1,\n",
    "    min_detection_confidence=0.75,\n",
    "    min_tracking_confidence=0.75,\n",
    "    max_num_hands=2)\n",
    "mpDraw = mp.solutions.drawing_utils\n",
    "\n",
    "# Initialize webcam\n",
    "cap = cv2.VideoCapture(0)\n",
    "\n",
    "# Initialize audio device for volume control\n",
    "devices = AudioUtilities.GetSpeakers()\n",
    "interface = devices.Activate(IAudioEndpointVolume._iid_, CLSCTX_ALL, None)\n",
    "volume = cast(interface, POINTER(IAudioEndpointVolume))\n",
    "# Get volume range\n",
    "vol_range = volume.GetVolumeRange()\n",
    "min_vol = vol_range[0]  # Usually -65.25 dB\n",
    "max_vol = vol_range[1]  # Usually 0.0 dB\n",
    "\n",
    "while True:\n",
    "    # Read frame from webcam\n",
    "    success, frame = cap.read()\n",
    "    if not success:\n",
    "        break\n",
    "        \n",
    "    # Define region of interest (ROI)\n",
    "    pt1 = (300, 180)\n",
    "    pt2 = (550, 420)\n",
    "    \n",
    "    # Draw rectangle for ROI\n",
    "    cv2.rectangle(frame, pt1, pt2, (255, 0, 0), 1)\n",
    "    \n",
    "    # Crop the frame to ROI\n",
    "    img = frame[pt1[1]:pt2[1], pt1[0]:pt2[0]]\n",
    "    \n",
    "    # Flip the image horizontally\n",
    "    img = cv2.flip(img, 1)\n",
    "    \n",
    "    # Convert to RGB for MediaPipe\n",
    "    imgRGB = cv2.cvtColor(img, cv2.COLOR_BGR2RGB)\n",
    "    \n",
    "    # Process the image with MediaPipe Hands\n",
    "    results = hands.process(imgRGB)\n",
    "    \n",
    "    # Initialize landmark list\n",
    "    lmList = []\n",
    "    \n",
    "    # Check if hands are detected\n",
    "    if results.multi_hand_landmarks:\n",
    "        # If two hands are detected\n",
    "        if len(results.multi_handedness) == 2:\n",
    "            cv2.putText(img, 'Both Hands', (20, 50),\n",
    "                      cv2.FONT_HERSHEY_COMPLEX,\n",
    "                      0.9, (0, 255, 0), 2)\n",
    "        else:\n",
    "            # Identify if it's left or right hand\n",
    "            for i in results.multi_handedness:\n",
    "                label = MessageToDict(i)['classification'][0]['label']\n",
    "                \n",
    "                if label == 'Left':  # This will appear as right on screen due to mirroring\n",
    "                    # Volume control with right hand (appears as left in mirrored image)\n",
    "                    cv2.putText(img, 'Right Hand (Volume)', (20, 50),\n",
    "                             cv2.FONT_HERSHEY_COMPLEX, 0.9, (0, 255, 0), 2)\n",
    "                    \n",
    "                elif label == 'Right':  # This will appear as left on screen due to mirroring\n",
    "                    # Brightness control with left hand (appears as right in mirrored image)\n",
    "                    cv2.putText(img, 'Left Hand (Brightness)', (20, 50),\n",
    "                              cv2.FONT_HERSHEY_COMPLEX, 0.9, (0, 255, 0), 2)\n",
    "                \n",
    "        # Process hand landmarks\n",
    "        for handLms in results.multi_hand_landmarks:\n",
    "            # Extract landmark coordinates\n",
    "            for id, lm in enumerate(handLms.landmark):\n",
    "                h, w, c = img.shape\n",
    "                cx, cy = int(lm.x * w), int(lm.y * h)\n",
    "                lmList.append([id, cx, cy])\n",
    "            \n",
    "            # Draw landmarks on the image\n",
    "            mpDraw.draw_landmarks(img, handLms, mpHands.HAND_CONNECTIONS)\n",
    "        \n",
    "        # If landmarks are detected\n",
    "        if lmList:\n",
    "            # Get coordinates of thumb tip (4) and index finger tip (8)\n",
    "            thumb_tip_x, thumb_tip_y = lmList[4][1], lmList[4][2]\n",
    "            index_tip_x, index_tip_y = lmList[8][1], lmList[8][2]\n",
    "            \n",
    "            # Draw circles at thumb and index fingertips\n",
    "            cv2.circle(img, (thumb_tip_x, thumb_tip_y), 10, (255, 0, 0), cv2.FILLED)\n",
    "            cv2.circle(img, (index_tip_x, index_tip_y), 10, (255, 0, 0), cv2.FILLED)\n",
    "            \n",
    "            # Draw line between thumb and index finger\n",
    "            cv2.line(img, (thumb_tip_x, thumb_tip_y), (index_tip_x, index_tip_y), (255, 0, 0), 3)\n",
    "            \n",
    "            # Calculate distance between thumb and index finger\n",
    "            length = hypot(index_tip_x - thumb_tip_x, index_tip_y - thumb_tip_y)\n",
    "            \n",
    "            # Check for hand label to control volume or brightness\n",
    "            if len(results.multi_handedness) == 1:\n",
    "                label = MessageToDict(results.multi_handedness[0])['classification'][0]['label']\n",
    "                \n",
    "                if label == 'Left':  # Right hand in mirrored image - Volume Control\n",
    "                    # Map finger distance to volume range\n",
    "                    vol = np.interp(length, [30, 200], [min_vol, max_vol])\n",
    "                    \n",
    "                    # Set volume\n",
    "                    volume.SetMasterVolumeLevel(vol, None)\n",
    "                    \n",
    "                    # Display volume level\n",
    "                    vol_percentage = int(np.interp(vol, [min_vol, max_vol], [0, 100]))\n",
    "                    cv2.putText(img, f'Vol Set: {vol_percentage}', (20, 150), \n",
    "                             cv2.FONT_HERSHEY_COMPLEX, 0.9, (0, 255, 0), 2)\n",
    "                \n",
    "                elif label == 'Right':  # Left hand in mirrored image - Brightness Control\n",
    "                    # Map finger distance to brightness range (0-100)\n",
    "                    brightness = np.interp(length, [30, 200], [0, 100])\n",
    "                    \n",
    "                    # Set brightness\n",
    "                    sbc.set_brightness(int(brightness))\n",
    "                    \n",
    "                    # Display brightness level\n",
    "                    cv2.putText(img, f'Bri Set: {int(brightness)}', (20, 150), \n",
    "                              cv2.FONT_HERSHEY_COMPLEX, 0.9, (0, 255, 0), 2)\n",
    "    \n",
    "    # Display the hand tracking frame\n",
    "    cv2.imshow('Hand Gesture Control', img)\n",
    "    \n",
    "    # Full frame for context\n",
    "    cv2.imshow('Full Frame', frame)\n",
    "    \n",
    "    # Exit on 'q' key press\n",
    "    if cv2.waitKey(1) & 0xFF == ord('q'):\n",
    "        break\n",
    "\n",
    "# Release resources\n",
    "cap.release()\n",
    "cv2.destroyAllWindows()"
   ]
  },
  {
   "cell_type": "code",
   "execution_count": 18,
   "id": "711cd87c-bfbe-4ae0-aea8-c3fe3b45f4f9",
   "metadata": {},
   "outputs": [
    {
     "name": "stdout",
     "output_type": "stream",
     "text": [
      "C:\\Users\\aryan\\Downloads\n"
     ]
    }
   ],
   "source": [
    "# In a notebook cell, run:\n",
    "import os\n",
    "print(os.getcwd())  # Current working directory"
   ]
  },
  {
   "cell_type": "code",
   "execution_count": null,
   "id": "f99a1f0d-bbb2-4606-a117-93bd18b5eebc",
   "metadata": {},
   "outputs": [],
   "source": []
  },
  {
   "cell_type": "code",
   "execution_count": null,
   "id": "aba81c57-926f-42bf-9d18-5fa7a6416234",
   "metadata": {},
   "outputs": [],
   "source": []
  },
  {
   "cell_type": "code",
   "execution_count": null,
   "id": "d701b326-6671-4e71-8a3c-ac8460c63828",
   "metadata": {},
   "outputs": [],
   "source": []
  },
  {
   "cell_type": "code",
   "execution_count": null,
   "id": "cbe267ac-1d47-4fb2-bd94-bca9e8fa56eb",
   "metadata": {},
   "outputs": [],
   "source": []
  }
 ],
 "metadata": {
  "kernelspec": {
   "display_name": "Python 3.9 (MediaPipe)",
   "language": "python",
   "name": "mediapipe_env"
  },
  "language_info": {
   "codemirror_mode": {
    "name": "ipython",
    "version": 3
   },
   "file_extension": ".py",
   "mimetype": "text/x-python",
   "name": "python",
   "nbconvert_exporter": "python",
   "pygments_lexer": "ipython3",
   "version": "3.9.13"
  }
 },
 "nbformat": 4,
 "nbformat_minor": 5
}
